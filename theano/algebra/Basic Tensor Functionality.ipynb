{
 "cells": [
  {
   "cell_type": "markdown",
   "metadata": {},
   "source": [
    "# Basic Tensor Functionality\n",
    "Notes based on http://deeplearning.net/software/theano/library/tensor/basic.html#libdoc-basic-tensor."
   ]
  },
  {
   "cell_type": "code",
   "execution_count": 43,
   "metadata": {
    "collapsed": true
   },
   "outputs": [],
   "source": [
    "import numpy as np\n",
    "import theano.tensor as T\n",
    "from theano import function\n",
    "import theano"
   ]
  },
  {
   "cell_type": "markdown",
   "metadata": {},
   "source": [
    "Theano focuses on symbolic matrix expressions like the following:"
   ]
  },
  {
   "cell_type": "code",
   "execution_count": 44,
   "metadata": {
    "collapsed": true
   },
   "outputs": [],
   "source": [
    "x = T.fmatrix()"
   ]
  },
  {
   "cell_type": "markdown",
   "metadata": {},
   "source": [
    "### Creation\n",
    "All of the following expressions produce a 0-dimensional array of integers named _myvar_: "
   ]
  },
  {
   "cell_type": "code",
   "execution_count": 45,
   "metadata": {
    "collapsed": false
   },
   "outputs": [],
   "source": [
    "x = T.scalar('myvar', dtype='int32')\n",
    "x = T.iscalar('myvar')\n",
    "x = T.TensorType(dtype='int32', broadcastable=())('myvar')"
   ]
  },
  {
   "cell_type": "markdown",
   "metadata": {},
   "source": [
    "Available types are __scalar__ (0-d array), __vector__ (1-d array), __matrix__ (2-d array), __row__ (2-d array, 1 row), __col__ (2-d array, 1 column), __tensor3__ (3-d array), and __tensor4__ (4-d array). They are prefixed in each case with __b__ (byte), __w__ (16-bit int), __i__ (32-bit int), __l__ (64-bit int), __f__ (float), __d__ (double), and __c__ (complex). All of them accept an optional _name_ argument.\n",
    "\n",
    "### Plural constructors\n",
    "Suffixing one of the above constructors with an __s__ makes them return more variables:"
   ]
  },
  {
   "cell_type": "code",
   "execution_count": 46,
   "metadata": {
    "collapsed": true
   },
   "outputs": [],
   "source": [
    "x, y, z = T.dmatrices('x', 'y', 'z')"
   ]
  },
  {
   "cell_type": "markdown",
   "metadata": {},
   "source": [
    "### Custom tensor types\n",
    "New tensor types with non-standard broadcasting pattern can be created as seen below:"
   ]
  },
  {
   "cell_type": "code",
   "execution_count": 49,
   "metadata": {
    "collapsed": false
   },
   "outputs": [],
   "source": [
    "dtensor5 = T.TensorType('float64', (False,)*5)\n",
    "x = dtensor5('x')"
   ]
  },
  {
   "cell_type": "markdown",
   "metadata": {},
   "source": [
    "### Converting from Python objects\n",
    "We can also create TensorVariables by calling __shared()__, which creates a variable whose value may be shared between multiple functions, i.e. the argument to __shared()__ _will not be copied_. Changes can be inspected using __get_value()__."
   ]
  },
  {
   "cell_type": "code",
   "execution_count": 41,
   "metadata": {
    "collapsed": false
   },
   "outputs": [
    {
     "data": {
      "text/plain": [
       "array([[ 0.27835781,  0.51699834,  0.04442313, -2.35251917],\n",
       "       [ 1.90817437, -0.67738736,  0.15724621, -2.08492307],\n",
       "       [-0.56873797, -0.38814212, -0.10803327,  0.35997669]])"
      ]
     },
     "execution_count": 41,
     "metadata": {},
     "output_type": "execute_result"
    }
   ],
   "source": [
    "x = theano.shared(np.random.randn(3, 4))\n",
    "x.get_value()"
   ]
  },
  {
   "cell_type": "markdown",
   "metadata": {},
   "source": [
    "Note: When using a number (anything _but_ a variable) in an arithmetic expression, Theano wraps it in a __TensorConstant__, since the result is always a __TensorVariable__."
   ]
  },
  {
   "cell_type": "code",
   "execution_count": 50,
   "metadata": {
    "collapsed": false
   },
   "outputs": [
    {
     "data": {
      "text/plain": [
       "array(4.0)"
      ]
     },
     "execution_count": 50,
     "metadata": {},
     "output_type": "execute_result"
    }
   ],
   "source": [
    "x = T.dscalar('x')\n",
    "y = x + 2\n",
    "f = function([x], y)\n",
    "f(2)"
   ]
  },
  {
   "cell_type": "markdown",
   "metadata": {},
   "source": [
    "__as_tensor_variable__ turns an argument $x$ into a TensorVariable or TensorConstant; used frequently to preprocess arguments and convert them to a TensorVariable or TensorConstant. In the below example, they are converted to TensorConstant."
   ]
  },
  {
   "cell_type": "code",
   "execution_count": 56,
   "metadata": {
    "collapsed": false
   },
   "outputs": [
    {
     "data": {
      "text/plain": [
       "array([[3, 5],\n",
       "       [3, 5]])"
      ]
     },
     "execution_count": 56,
     "metadata": {},
     "output_type": "execute_result"
    }
   ],
   "source": [
    "x = T.as_tensor_variable([[1, 2], [2, 3]], 'x')\n",
    "y = T.as_tensor_variable([[2, 3], [1, 2]], 'y')\n",
    "z = x + y\n",
    "f = function([], z)\n",
    "f()"
   ]
  },
  {
   "cell_type": "markdown",
   "metadata": {},
   "source": [
    "### TensorType and TensorVariable\n",
    "#### broadcastable\n",
    "__broadcastable__ is a tuple of True/False, one for each dimension. If broadcasting is False for a dimension, the length of that dimension can be 1 or more. If broadcasting is True, the length must be 1. A  1-d scalar has the pattern [True], a 2-d scalar [True, True], while a vector has [False], a matrix [False, False], and a row [True, False], etc.\n",
    "When two arguments in an element-wise operation have a different number of dimensions, the pattern is __expanded to the left__ by padding with True. A vector's pattern thus becomes [True, False], i.e. a row, while a matrix would behave as a 1xNxP tensor ([True, False, False])."
   ]
  },
  {
   "cell_type": "markdown",
   "metadata": {},
   "source": []
  }
 ],
 "metadata": {
  "kernelspec": {
   "display_name": "Python 2",
   "language": "python",
   "name": "python2"
  },
  "language_info": {
   "codemirror_mode": {
    "name": "ipython",
    "version": 2
   },
   "file_extension": ".py",
   "mimetype": "text/x-python",
   "name": "python",
   "nbconvert_exporter": "python",
   "pygments_lexer": "ipython2",
   "version": "2.7.6"
  }
 },
 "nbformat": 4,
 "nbformat_minor": 0
}
