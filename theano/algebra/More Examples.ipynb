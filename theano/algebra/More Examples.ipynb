{
 "cells": [
  {
   "cell_type": "markdown",
   "metadata": {},
   "source": [
    "# More Examples\n",
    "Notes based on http://deeplearning.net/software/theano/tutorial/examples.html."
   ]
  },
  {
   "cell_type": "code",
   "execution_count": 1,
   "metadata": {
    "collapsed": false
   },
   "outputs": [],
   "source": [
    "%matplotlib inline\n",
    "import matplotlib.pyplot as plt\n",
    "import numpy as np\n",
    "import theano\n",
    "import theano.tensor as T\n",
    "from theano import function"
   ]
  },
  {
   "cell_type": "markdown",
   "metadata": {},
   "source": [
    "### Logistic Function\n",
    "The definition and a plot of the logistic function can be seen below. "
   ]
  },
  {
   "cell_type": "code",
   "execution_count": 2,
   "metadata": {
    "collapsed": false
   },
   "outputs": [
    {
     "data": {
      "text/plain": [
       "[<matplotlib.lines.Line2D at 0x7fcac8329e90>]"
      ]
     },
     "execution_count": 2,
     "metadata": {},
     "output_type": "execute_result"
    },
    {
     "data": {
      "image/png": "[encoded data removed]",
      "text/plain": [
       "<matplotlib.figure.Figure at 0x7fcac8384710>"
      ]
     },
     "metadata": {},
     "output_type": "display_data"
    }
   ],
   "source": [
    "def sigmoid(x):\n",
    "    x = 1 / (1 + np.exp(-x)) # also: T.exp(-x)\n",
    "    return x\n",
    "\n",
    "x = np.arange(-6, 6, 0.1)\n",
    "plt.plot(x, sigmoid(x))"
   ]
  },
  {
   "cell_type": "markdown",
   "metadata": {},
   "source": [
    "We compute this function elementwise, i.e. to each individual element, on matrices of doubles, as all of its operations (division, addition, exponentation) are elementwise operations:"
   ]
  },
  {
   "cell_type": "code",
   "execution_count": 3,
   "metadata": {
    "collapsed": false
   },
   "outputs": [
    {
     "data": {
      "text/plain": [
       "array([[ 0.5       ,  0.73105858],\n",
       "       [ 0.26894142,  0.11920292]])"
      ]
     },
     "execution_count": 3,
     "metadata": {},
     "output_type": "execute_result"
    }
   ],
   "source": [
    "x = T.dmatrix('x')\n",
    "s = 1 / (1 + T.exp(-x))\n",
    "logistic = function([x], s)\n",
    "logistic([[0, 1], [-1, -2]])"
   ]
  },
  {
   "cell_type": "markdown",
   "metadata": {},
   "source": [
    "Note:\n",
    "\\begin{equation}\n",
    "s(x) = \\frac{1}{1 + e^{-x}} = \\frac{1 + \\tanh(x/2)}{2}\n",
    "\\end{equation}\n",
    "\n",
    "### Multiple Outputs\n",
    "Theano supports functions with multiple outputs. For instance, we can compute the elementwise difference, absolute difference, and squared difference between two matrices $a$ and $b$ at the same time:"
   ]
  },
  {
   "cell_type": "code",
   "execution_count": 4,
   "metadata": {
    "collapsed": false
   },
   "outputs": [
    {
     "data": {
      "text/plain": [
       "[array([[ 1.,  0.],\n",
       "        [-1., -2.]]), array([[ 1.,  0.],\n",
       "        [ 1.,  2.]]), array([[ 1.,  0.],\n",
       "        [ 1.,  4.]])]"
      ]
     },
     "execution_count": 4,
     "metadata": {},
     "output_type": "execute_result"
    }
   ],
   "source": [
    "a, b = T.dmatrices('a', 'b')\n",
    "diff = a - b\n",
    "abs_diff = abs(diff)\n",
    "diff_squared = diff**2\n",
    "f = function([a, b], [diff, abs_diff, diff_squared])\n",
    "f([[1, 1], [1, 1]], [[0, 1], [2, 3]])"
   ]
  },
  {
   "cell_type": "markdown",
   "metadata": {},
   "source": [
    "### Defaults\n",
    "You can set default values for arguments in theano using the __Param__ class like this:"
   ]
  },
  {
   "cell_type": "code",
   "execution_count": 5,
   "metadata": {
    "collapsed": false
   },
   "outputs": [
    {
     "data": {
      "text/plain": [
       "array(34.0)"
      ]
     },
     "execution_count": 5,
     "metadata": {},
     "output_type": "execute_result"
    }
   ],
   "source": [
    "from theano import Param\n",
    "x, y = T.dscalars('x', 'y')\n",
    "z = x + y\n",
    "f = function([x, Param(y, default=1)], z)\n",
    "f(33)"
   ]
  },
  {
   "cell_type": "markdown",
   "metadata": {},
   "source": [
    "Note: Like in Python, there can be multiple default inputs, they must follow inputs without default values, and can be set by name as well. The name attributes are the ones set by the TensorVariable initially, but can be overwritten, as seen below:"
   ]
  },
  {
   "cell_type": "code",
   "execution_count": 6,
   "metadata": {
    "collapsed": false
   },
   "outputs": [
    {
     "data": {
      "text/plain": [
       "array(33.0)"
      ]
     },
     "execution_count": 6,
     "metadata": {},
     "output_type": "execute_result"
    }
   ],
   "source": [
    "x, y, w = T.dscalars('x', 'y', 'w')\n",
    "z = (x + y) * w\n",
    "f = function([x, Param(y, default=1), Param(w, default=2, name='w_by_name')], z)\n",
    "f(33, w_by_name=1, y=0)"
   ]
  },
  {
   "cell_type": "markdown",
   "metadata": {},
   "source": [
    "### Shared Variables\n",
    "We can use the __shared__ function to construct so-called shared variables which share their value between multiple functions. An _accumulator_ function using __shared__ to store its internal state looks like this:"
   ]
  },
  {
   "cell_type": "code",
   "execution_count": 7,
   "metadata": {
    "collapsed": true
   },
   "outputs": [],
   "source": [
    "from theano import shared\n",
    "state = shared(0)\n",
    "inc = T.iscalar('inc')\n",
    "accumulator = function([inc], state, updates=[(state, state+inc)])"
   ]
  },
  {
   "cell_type": "markdown",
   "metadata": {},
   "source": [
    "We can access and modify the value of a shared variable using __.get_value()__ and __.set_value()__. The __updates__ parameter takes a list of pairs (or a dictionary) of the form (shared-variable, new expression). It is more efficient and more optimized for GPUs than doing the same in numpy. Whenever the function runs, __updates__ replaces the value of each shared variable with the result of the corresponding expression, as can be seen below:"
   ]
  },
  {
   "cell_type": "code",
   "execution_count": 8,
   "metadata": {
    "collapsed": false
   },
   "outputs": [
    {
     "data": {
      "text/plain": [
       "array(0)"
      ]
     },
     "execution_count": 8,
     "metadata": {},
     "output_type": "execute_result"
    }
   ],
   "source": [
    "state.get_value()"
   ]
  },
  {
   "cell_type": "code",
   "execution_count": 9,
   "metadata": {
    "collapsed": false
   },
   "outputs": [
    {
     "data": {
      "text/plain": [
       "array(0)"
      ]
     },
     "execution_count": 9,
     "metadata": {},
     "output_type": "execute_result"
    }
   ],
   "source": [
    "accumulator(1)"
   ]
  },
  {
   "cell_type": "code",
   "execution_count": 11,
   "metadata": {
    "collapsed": false
   },
   "outputs": [
    {
     "data": {
      "text/plain": [
       "array(1)"
      ]
     },
     "execution_count": 11,
     "metadata": {},
     "output_type": "execute_result"
    }
   ],
   "source": [
    "state.get_value()"
   ]
  },
  {
   "cell_type": "markdown",
   "metadata": {},
   "source": [
    "We can reset the state using __.set_value()__ like this:"
   ]
  },
  {
   "cell_type": "code",
   "execution_count": 13,
   "metadata": {
    "collapsed": false
   },
   "outputs": [
    {
     "data": {
      "text/plain": [
       "array(2)"
      ]
     },
     "execution_count": 13,
     "metadata": {},
     "output_type": "execute_result"
    }
   ],
   "source": [
    "state.set_value(-1)\n",
    "accumulator(3)\n",
    "state.get_value()"
   ]
  },
  {
   "cell_type": "markdown",
   "metadata": {},
   "source": [
    "As mentioned, other functions can use the shared variables as well:"
   ]
  },
  {
   "cell_type": "code",
   "execution_count": 15,
   "metadata": {
    "collapsed": false
   },
   "outputs": [
    {
     "data": {
      "text/plain": [
       "array(-2)"
      ]
     },
     "execution_count": 15,
     "metadata": {},
     "output_type": "execute_result"
    }
   ],
   "source": [
    "decrementor = function([inc], state, updates=[(state, state-inc)])\n",
    "decrementor(2)\n",
    "state.get_value()"
   ]
  },
  {
   "cell_type": "markdown",
   "metadata": {},
   "source": [
    "If a function is using a shared variable, but you do _not_ want to use its value, you can use the __givens__ parameter which replaces any part of your formula with a different expression that evaluates to a tensor of same shape and dtype:"
   ]
  },
  {
   "cell_type": "code",
   "execution_count": 17,
   "metadata": {
    "collapsed": false
   },
   "outputs": [
    {
     "data": {
      "text/plain": [
       "array(-2)"
      ]
     },
     "execution_count": 17,
     "metadata": {},
     "output_type": "execute_result"
    }
   ],
   "source": [
    "fn_of_state = state * 2 + inc\n",
    "foo = T.scalar(dtype=state.dtype) # same type as state\n",
    "skip_shared = function([inc, foo], fn_of_state, givens=[(state, foo)])\n",
    "skip_shared(1, 3) # 3 is used instead of state.value\n",
    "state.get_value()"
   ]
  },
  {
   "cell_type": "markdown",
   "metadata": {},
   "source": [
    "__givens__ can replace any variable, not just a shared one. The expressions introduced by __givens__ mustn't be co-dependent, as the substitutions have to work in any order.\n",
    "\n",
    "### Using Random Numbers\n",
    "To introduce randomness in your computation, Theano allocates a NumPy RandomStream object (a random number generator) for each random variable and draws from it as necessary. We call such a sequence of random numbers a _random stream_. Random streams are at their core shared variables, so all observations regarding shared variables hold here as well. Below, we create two random streams: __rv_u__, a random stream of 2x2 matrices drawing from a uniform distribution; and __rv_n__, a random stream of 2x2 matrices drawing from a normal distribution."
   ]
  },
  {
   "cell_type": "code",
   "execution_count": 18,
   "metadata": {
    "collapsed": true
   },
   "outputs": [],
   "source": [
    "from theano.tensor.shared_randomstreams import RandomStreams\n",
    "srng = RandomStreams(seed=234)\n",
    "rv_u = srng.uniform((2, 2))\n",
    "rv_n = srng.normal((2, 2))\n",
    "f = function([], rv_u)\n",
    "g = function([], rv_n, no_default_updates=True) # not updating rv_n.rng\n",
    "nearly_zeros = function([], rv_u + rv_u - 2 * rv_u)"
   ]
  },
  {
   "cell_type": "markdown",
   "metadata": {},
   "source": [
    "As the internal state of our function __f__ is automatically updated, we get different random numbers every time."
   ]
  },
  {
   "cell_type": "code",
   "execution_count": 22,
   "metadata": {
    "collapsed": false
   },
   "outputs": [
    {
     "data": {
      "text/plain": [
       "(array([[ 0.28179047,  0.23616647],\n",
       "        [ 0.5958365 ,  0.1385743 ]]), array([[ 0.4144294 ,  0.72942789],\n",
       "        [ 0.24875205,  0.34337139]]))"
      ]
     },
     "execution_count": 22,
     "metadata": {},
     "output_type": "execute_result"
    }
   ],
   "source": [
    "f_val0 = f()\n",
    "f_val1 = f()\n",
    "f_val0, f_val1"
   ]
  },
  {
   "cell_type": "markdown",
   "metadata": {},
   "source": [
    "Adding __no_default_updates=True__ to _g_ decouples the state from the random number generator, so we receive the same numbers every time.\n",
    "Note that a random variable is drawn at most once during a single function execution. Thus, _nearly_zeros_ always returns 0, as the _rv_u_ is only executed once despicte appearing three times in the output expression."
   ]
  },
  {
   "cell_type": "code",
   "execution_count": 26,
   "metadata": {
    "collapsed": false
   },
   "outputs": [
    {
     "data": {
      "text/plain": [
       "array([[ 0.,  0.],\n",
       "       [ 0.,  0.]])"
      ]
     },
     "execution_count": 26,
     "metadata": {},
     "output_type": "execute_result"
    }
   ],
   "source": [
    "nearly_zeros()"
   ]
  },
  {
   "cell_type": "markdown",
   "metadata": {},
   "source": [
    "### Seeding Streams\n",
    "We can seed random variables either individually or collectively by seeding the random number generator. Futhermore, we can seed _all_ random variables allocated by a __RandomStreams__ object by seeding that object."
   ]
  },
  {
   "cell_type": "code",
   "execution_count": 29,
   "metadata": {
    "collapsed": true
   },
   "outputs": [],
   "source": [
    "rng_val = rv_u.rng.get_value(borrow=True) # get rng value of variable\n",
    "rng_val.seed(89234) # seed generator\n",
    "rv_u.rng.set_value(rng_val, borrow=True) # seed one random variable\n",
    "srng.seed(902340) # seed rv_u and rv_n with different seeds each"
   ]
  },
  {
   "cell_type": "markdown",
   "metadata": {},
   "source": [
    "### Sharing Streams Between Functions\n",
    "As usual for shared variables, the random number generators are shared between functions. Thus each function call updates their state."
   ]
  },
  {
   "cell_type": "code",
   "execution_count": 38,
   "metadata": {
    "collapsed": false
   },
   "outputs": [
    {
     "data": {
      "text/plain": [
       "array([[ True,  True],\n",
       "       [ True,  True]], dtype=bool)"
      ]
     },
     "execution_count": 38,
     "metadata": {},
     "output_type": "execute_result"
    }
   ],
   "source": [
    "state_after_v0 = rv_u.rng.get_value().get_state()\n",
    "nearly_zeros() # runs rv_u generator 1x\n",
    "v1 = f() # runs rv_u generator the 2nd time\n",
    "rng = rv_u.rng.get_value(borrow=True)\n",
    "rng.set_state(state_after_v0) # reset state\n",
    "rv_u.rng.set_value(rng, borrow=True)\n",
    "v2 = f() # runs rv_u generator 1x\n",
    "v3 = f() # runs rv_u generator the 2nd time\n",
    "v3 == v1"
   ]
  },
  {
   "cell_type": "markdown",
   "metadata": {},
   "source": [
    "### Copying Random State Between Theano Graphs\n",
    "In some cases, e.g. when trying to initialize the state of a model from the parameters of a pickled version of a previous model, you want to transfer the state of all random number generators associated with a given theano graph to a second graph. This can be done by copying elements of the _state_updates_ parameter, which contains a tuple for every time a random variable is drawn from the stream: the first element is a shared variable representing the state of the RNG associated with the drawn variable (__this is what we care about__), the second represents the theano graph associated with the RNG ( i.e. RandomFunction{uniform}.0)."
   ]
  },
  {
   "cell_type": "code",
   "execution_count": 40,
   "metadata": {
    "collapsed": false
   },
   "outputs": [
    {
     "name": "stdout",
     "output_type": "stream",
     "text": [
      "By default, the two functions are out of sync.\n",
      "f1() returns  [ 0.72803009]\n",
      "f2() returns  [ 0.55056769]\n",
      "We now copy the state of the theano random number generators.\n",
      "f1() returns  [ 0.59044123]\n",
      "f2() returns  [ 0.59044123]\n"
     ]
    }
   ],
   "source": [
    "from theano.sandbox.rng_mrg import MRG_RandomStreams\n",
    "\n",
    "class Graph():\n",
    "    def __init__(self, seed=123):\n",
    "        self.rng = RandomStreams(seed)\n",
    "        self.y = self.rng.uniform(size=(1,))\n",
    "\n",
    "g1 = Graph(seed=123)\n",
    "f1 = function([], g1.y)\n",
    "\n",
    "g2 = Graph(seed=987)\n",
    "f2 = function([], g2.y)\n",
    "\n",
    "print 'By default, the two functions are out of sync.'\n",
    "print 'f1() returns ', f1()\n",
    "print 'f2() returns ', f2()\n",
    "\n",
    "def copy_random_state(g1, g2):\n",
    "    if isinstance(g1.rng, MRG_RandomStreams):\n",
    "        g2.rng.rstate = g1.rng.rstate\n",
    "    for (su1, su2) in zip(g1.rng.state_updates, g2.rng.state_updates):\n",
    "        su2[0].set_value(su1[0].get_value())\n",
    "        \n",
    "print 'We now copy the state of the theano random number generators.'\n",
    "copy_random_state(g1, g2)\n",
    "print 'f1() returns ', f1()\n",
    "print 'f2() returns ', f2()"
   ]
  }
 ],
 "metadata": {
  "kernelspec": {
   "display_name": "Python 2",
   "language": "python",
   "name": "python2"
  },
  "language_info": {
   "codemirror_mode": {
    "name": "ipython",
    "version": 2
   },
   "file_extension": ".py",
   "mimetype": "text/x-python",
   "name": "python",
   "nbconvert_exporter": "python",
   "pygments_lexer": "ipython2",
   "version": "2.7.6"
  }
 },
 "nbformat": 4,
 "nbformat_minor": 0
}
