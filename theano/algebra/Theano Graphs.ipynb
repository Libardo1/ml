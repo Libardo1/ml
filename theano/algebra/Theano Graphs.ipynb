{
 "cells": [
  {
   "cell_type": "markdown",
   "metadata": {},
   "source": [
    "# Theano Graphs\n",
    "Notes based on: http://deeplearning.net/software/theano/tutorial/symbolic_graphs.html.\n",
    "\n",
    "When writing Theano code, first all mathematical relations are written down using variables. Operations like +, -, sum(), tanh() between those are internally represented as __ops__.\n",
    "\n",
    "Theano builds internally a graph structure composed of interconnected __variable__ nodes, __op__ nodes and __apply__ nodes. While an __op__ represents the _definition_ of a computation on some inputs producing some outputs, an __apply__ node represents the _application_ of an __op__ to some variables.\n",
    "\n",
    "A graph for the following code can be seen below:"
   ]
  },
  {
   "cell_type": "code",
   "execution_count": 3,
   "metadata": {
    "collapsed": true
   },
   "outputs": [],
   "source": [
    "import theano\n",
    "import theano.tensor as T\n",
    "x = T.dmatrix('x')\n",
    "y = T.dmatrix('y')\n",
    "z = x + y"
   ]
  },
  {
   "cell_type": "markdown",
   "metadata": {},
   "source": [
    "![A Theano graph](apply1.png)\n",
    "Interaction between instances of Apply (blue), Variable (red), Op (green), and Type (purple)\n",
    "\n",
    "The graph can be traversed from the outputs down to its inputs using the owner field. Let's look at the following code:"
   ]
  },
  {
   "cell_type": "code",
   "execution_count": 8,
   "metadata": {
    "collapsed": true
   },
   "outputs": [],
   "source": [
    "x = T.dmatrix('x')\n",
    "y = x * 2"
   ]
  },
  {
   "cell_type": "markdown",
   "metadata": {},
   "source": [
    "The owner of the outputs is the __apply__ node, while the __op__ that is applied to get _y_ is an elementwise multiplication:"
   ]
  },
  {
   "cell_type": "code",
   "execution_count": 9,
   "metadata": {
    "collapsed": false
   },
   "outputs": [
    {
     "data": {
      "text/plain": [
       "(theano.gof.graph.Apply, 'Elemwise{mul,no_inplace}')"
      ]
     },
     "execution_count": 9,
     "metadata": {},
     "output_type": "execute_result"
    }
   ],
   "source": [
    "type(y.owner), y.owner.op.name"
   ]
  },
  {
   "cell_type": "markdown",
   "metadata": {},
   "source": [
    "This multiplication is done between the inputs:"
   ]
  },
  {
   "cell_type": "code",
   "execution_count": 12,
   "metadata": {
    "collapsed": false
   },
   "outputs": [
    {
     "data": {
      "text/plain": [
       "[x, DimShuffle{x,x}.0]"
      ]
     },
     "execution_count": 12,
     "metadata": {},
     "output_type": "execute_result"
    }
   ],
   "source": [
    "y.owner.inputs"
   ]
  },
  {
   "cell_type": "markdown",
   "metadata": {},
   "source": [
    "Note that in case of the second input, 2 was broadcasted to a matrix of same shape as _x_ by using the op __DimShuffle__ on the __TensorConstant__ 2:"
   ]
  },
  {
   "cell_type": "code",
   "execution_count": 14,
   "metadata": {
    "collapsed": false
   },
   "outputs": [
    {
     "data": {
      "text/plain": [
       "(<theano.tensor.elemwise.DimShuffle at 0x7f38dc071490>, [TensorConstant{2}])"
      ]
     },
     "execution_count": 14,
     "metadata": {},
     "output_type": "execute_result"
    }
   ],
   "source": [
    "y.owner.inputs[1].owner.op, y.owner.inputs[1].owner.inputs"
   ]
  },
  {
   "cell_type": "markdown",
   "metadata": {},
   "source": [
    "### Automatic Differentiation and Optimization\n",
    "For automatic differentiation, __tensor.grad()__ traverses the graph from the outputs back towards the inputs through all __apply__ nodes, computes the gradients according to their __op__ definition, and uses the chain rule to compose these gradients in order to obtain the gradient of the graph's output wrt the graph's input.\n",
    "\n",
    "For optimization, __theano.function__ replaces certain patterns in its input graph with faster or more stable specialized patterns.\n",
    "\n",
    "### Visualizing Graphs\n",
    "To visualize a graph, you can use the following functions in __theano.printing__: __pprint()__ (more compact and math-like); __debugprint()__ (more verbose); and __pydotprint()__ (creates an image).\n",
    "For examples, refer to http://deeplearning.net/software/theano/tutorial/printing_drawing.html."
   ]
  }
 ],
 "metadata": {
  "kernelspec": {
   "display_name": "Python 2",
   "language": "python",
   "name": "python2"
  },
  "language_info": {
   "codemirror_mode": {
    "name": "ipython",
    "version": 2
   },
   "file_extension": ".py",
   "mimetype": "text/x-python",
   "name": "python",
   "nbconvert_exporter": "python",
   "pygments_lexer": "ipython2",
   "version": "2.7.6"
  }
 },
 "nbformat": 4,
 "nbformat_minor": 0
}
